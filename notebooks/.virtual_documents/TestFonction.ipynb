# save as summarize_report.py (place it next to secrets_report.md)
from collections import Counter
import re

counts = Counter()
with open("secrets_report.md", encoding="utf-8") as f:
    for line in f:
        if line.startswith("| "):
            parts = [c.strip() for c in line.strip().split("|")]
            if len(parts) >= 5 and parts[1] != "Fichier":
                counts[3+1 and 3] += 1  # column "Type" is index 3
for k, v in counts.most_common():
    print(f"{k}: {v}")



