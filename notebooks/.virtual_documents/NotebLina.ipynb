import numpy as np

# Tableau des 10 clients avec Revenus, Age, Nombre d'enfants
hugo=[1800,21,0]
richard=[1500,54,2]
emilie=[2200,28,3]
pierre=[3000,37,1]
paul=[2172,37,2]
deborah=[5000,32,0]
yohann=[1400,23,0]
anne=[1200,25,1]
thibault=[1100,19,0]
emmanuel=[1300,31,2]

tableau=[hugo, richard, emilie, pierre,paul, deborah, yohann,anne,thibault,emmanuel]
data=np.array(tableau)
data[4,:]
#print("Informations de Paul :",data[4,:])
#print("-")
#print("Ses mensualités maximales sont de :", round(data[4,0]*0.35, 2), "€")
louise = [1900, 31, 1]
np.vstack((data, louise))
revenus=data[:,0]
#print(revenus)

b = np.array([[[1, 2],[4, 5]],
        [[6, 7],[8, 9]],
        [[10, 11],[12, 13]]])
b.reshape([4, 1, 3])
b.flatten()



