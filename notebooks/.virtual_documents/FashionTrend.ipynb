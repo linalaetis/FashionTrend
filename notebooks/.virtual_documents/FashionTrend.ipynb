


## 📒 Notes sur l’environnement

import sys, importlib

# Version de Python
print(f"✅ Python version : {sys.version.split()[0]}")

# Bibliothèques clés à vérifier
libs = ["numpy", "pandas", "scikit-learn", "matplotlib", "torch", "tensorflow"]

for lib in libs:
    try:
        module = importlib.import_module(lib)
        print(f"{lib:15} : {module.__version__}")
    except ImportError:
        print(f"{lib:15} : non installé")
      
# Créer le fichier requirements.txt avec la liste des bibliothèques exactes
with open("requirements.txt", "w") as f:
    result = subprocess.run(["pip", "freeze"], capture_output=True, text=True)
    f.write(result.stdout)

print("✅ Fichier 'requirements.txt' généré avec succès dans le dossier courant !")
