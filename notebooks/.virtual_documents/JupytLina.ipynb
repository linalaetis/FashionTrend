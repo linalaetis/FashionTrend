
# import de la librairie Panda

import pandas as pd
import numpy as np

prets = pd.read_csv(r'D:\IA\Appli\data\prets.txt')
prets.head()
# calcul du taux d'endettement
prets['taux_endettement']=round((prets['remboursement']*100)/prets['revenu'],2)

# renommer le taux en taux d'interet
prets.rename(columns={'taux': 'taux_interet'}, inplace=True)

# calcul du cout total 
prets['cout_total']=prets['remboursement']*prets['duree']

# calcul du benefice
prets['benefices']=round((prets['cout_total']*prets['taux_interet'])/100/24,2)

# création de la variable risque
prets['risque']='Non'
prets.loc[prets['taux_endettement']>35,'risque']='Oui'
# création de la data frame profil_clients
profil_clients = prets.groupby('identifiant')[['remboursement','taux_endettement','cout_total','benefices']].sum()
profil_clients.reset_index(inplace=True)
profil_clients.head()
prets.head()
prets.groupby(['ville','type'])['benefices'].sum()
prets.pivot_table(index='ville', columns='type', values='benefices', aggfunc='mean')

clients_1 = pd.read_csv(r'D:\IA\Appli\data\clients.csv')
#clients_1.shape[0] # nombre de lignes dans la data frame

clients_2 = pd.read_json(r'D:\IA\Appli\data\clients.json')   # pour excel read_excel
# clients_2 

#concatener les deux dataframes
clients=pd.concat([clients_1, clients_2], ignore_index=True)
clients = clients.drop_duplicates()

#fusionner les deux data frames
data = pd.merge(clients, profil_clients, on='identifiant', how='inner')
prets.rename(columns={'identifiant':'id'}, inplace=True)
data = pd.merge(data, prets, left_on='identifiant',right_on='id',how='right')
data =data.drop_duplicates(subset=['identifiant'])
prets


notes=pd.read_csv(r'D:\IA\Appli\data\notes.csv')
notes
#la moyenne en mathématiques
moyenne = notes.loc[notes['matiere'] == "Mathématiques", 'note'].mean()  #notes.groupby('matiere').mean()
moyenne
#la moyenne par eleve et le nombre d'eleves qui ont moins de 10 de moyenne
moyenne_eleves = notes.groupby('nom', as_index=False)['note'].mean()
nb_sous_moyenne = moyenne_eleves.loc[moyenne_eleves['note']<10,].shape[0] #moyenne.sort_values('note')
nb_sous_moyenne


produits=pd.read_csv(r'D:\IA\Appli\data\produits.csv')
commande=pd.read_csv(r'D:\IA\Appli\data\commande.csv')
produits_achetes = commande.groupby('id').agg( nbProduits=('nombre', 'sum'),nbAchats=('id', 'count')).reset_index()
#fusion des data frames
data_prets=pd.merge(commande,produits, on='id',how='inner')
data_prets['CA']=data_prets['nombre']*data_prets['prix']
data_grouped=data_prets.groupby('id').sum()
#le produit le plus vendu
data_grouped.sort_values('nombre', ascending=False).head()
#le produit ayant le plus faible chiffre d'affaire
data_grouped.sort_values('CA', ascending=True).head()
data_prets



import matplotlib.pyplot as plt

# un graphique nuages de points
#plt.scatter(prets['revenu'], prets['taux_endettement'])
#plt.scatter(prets['revenu'], prets['taux_endettement'],s=60, alpha=0.5, c='red', marker='P')

#pour representer un camembert
data = prets.groupby('ville')['remboursement'].sum()
data = data.reset_index()
plt.pie(x=data['remboursement'], labels=data['ville'], autopct='%.2f%%') # construit le camembert

data_sorted = data.sort_values('remboursement', ascending=False)
plt.figure(figsize=(10,6))
plt.bar(data_sorted['ville'],data_sorted['remboursement'] ) # pour faire un histogramme avec tri des valeurs
plt.title("Chiffre d'Affaire realisé par Agence", fontname='Monotype Corsiva', color='blue', fontsize=18)
plt.xlabel("Agences", color='red', fontweight='bold')
plt.ylabel("Chiffre d'Affaire en (€)", color='red', fontweight='bold')
plt.grid(axis='y')
plt.ylim(0,120000)
plt.yticks([0,30000,60000,90000,120000])
ca=data_sorted['remboursement'].tolist()
for i in range(len(ca)) :
    plt.text(i-0.2, ca[i]+2000,round(ca[i],1))
    
#plt.hist(prets['revenu'])  # pour un histogramme
#plt.plot(data['ville'], data['remboursement']) # pour un diagramme en ligne
#plt.plot(data['ville'], data['remboursement'], marker='o', linestyle='--', color='red')


#code pour superposer des données pour chaque agence
for ville in prets['ville'].unique():
    df= prets.loc[prets['ville']==ville,:]
    plt.scatter(df['revenu'], df['taux_interet'], label=ville)

plt.legend()
plt.show()
    


prets=pd.read_csv(r'D:\IA\Appli\data\prets_final.csv')
prets.head()
# la proportion de prêt par type de prêt (bar)
type_agreg = prets.groupby('type').size().reset_index()
# renomme toutes les colonnes et proportions de prets par type 
type_agreg.columns = ['type','nombre']
plt.figure(figsize=(8,4))
plt.bar(type_agreg['type'], type_agreg['nombre'],color='skyblue') # diagramme à barres
plt.title("Nombre de Prets par type")
plt.xlabel("Type de Pret")
plt.ylabel("Nombre")
plt.show()

# proportions de prets par type (camembert)
plt.figure(figsize=(6,6))
plt.pie(x=type_agreg['nombre'], labels=type_agreg['type'], autopct='%.2f%%') # diagramme à barres
plt.title("Proportion des types de Prets")
plt.show()

# le bénéfice mensuel en fonction du revenu du client prets immobiliers
prets_imo = prets.loc[prets['type'] == 'immobilier', :]
plt.figure(figsize=(8,4))
plt.scatter(prets_imo['revenu'], prets_imo['benefices'],alpha=0.6)
plt.title("Bénéfices mensuels vs Revenus (prêts immobiliers)")
plt.xlabel("Revenu")
plt.ylabel("Nombre d'observations")
plt.show()

# Distribution des bénéfices réalisés
plt.figure(figsize=(8,4))
plt.hist(prets['benefices'], bins=20, color='lightgreen', edgecolor='black')
plt.title("Distribution des bénéfices réalisés")
plt.xlabel("Bénéfices")
plt.ylabel("Bénéfices mensuels")
plt.show()

# le bénéfice mensuel total réalisé par agence
benef_ville = prets.groupby('ville')['benefices'].sum().reset_index()
plt.figure(figsize=(10,5))
plt.bar(benef_ville['ville'], benef_ville['benefices'], color='orange')
plt.title("Bénéfice mensuel total par agence")
plt.xlabel("Ville")
plt.ylabel("Bénéfices mensuels")
plt.xticks(rotation=45)
plt.show()


CA=pd.read_csv(r'D:\IA\Appli\data\CA.csv')
CA['date'] = pd.to_datetime(CA['date'])
plt.figure(figsize=(10, 6))
plt.plot(CA['date'], CA['immobilier'], label='immobilier', linewidth=3)
plt.plot(CA['date'], CA['automobile'], label='automobile', linewidth=3)
plt.plot(CA['date'], CA['consommation'], label='consommation', linewidth=3)
plt.legend(loc='upper right')
plt.ylabel('Benefice net (€)', fontsize=13)
plt.yticks(fontsize=11)
plt.title("Bénéfices mensuels nets sur l'année 2021, par type de prêt", fontsize=14)
plt.grid(color='gray', linestyle='-', linewidth=0.5)
plt.show()

#benef_ville = prets.groupby('ville')['benefices'].sum().reset_index()
#plt.bar(benef_ville['ville'], benef_ville['benefices'])


import seaborn as sns 

plt.figure(figsize=(10,6))

plt.rcParams.update({'font.size': 14})

sns.scatterplot(data=prets, x='revenu', y='taux_endettement', hue='type')

plt.ylabel("Taux d'endettement")

plt.xlabel('Revenu mensuel (€)')

plt.grid()

plt.xlim(500, 7500)

plt.legend(bbox_to_anchor=(1, 1.02))

plt.title("Taux d'endettement en fonction du revenu mensuel\npar type de prêt contracté")

plt.show()

sns.barplot(data=prets, x='ville', y='remboursement', estimator=np.mean, errorbar=None, hue='type')


# refait les memes graphiques pls elaborées avec la librairie seaborn
import numpy as np
import pandas as pd
import matplotlib.pyplot as plt
import seaborn as sns

prets = pd.read_csv('https://raw.githubusercontent.com/OpenClassrooms-Student-Center/fr-4452741-decouvrez-les-librairies-python-pour-la-data-science/main/data/prets_final.csv')
print(prets.head())

# 1. proportion de prêt par type de prêt
plt.figure(figsize=(6,6))
sns.countplot(data=prets, x='type')
plt.show()
# bénéfice mensuel réalisé en fonction du revenu du client - prêts immobiliers
sns.scatterplot(data=prets, x='revenu', y='benefices', hue='ville')
plt.show()

# histogramme : distribution des benefices
sns.histplot(data=prets, x='benefices')
plt.show()

# diagramme à densité : distribution des benefices
sns.kdeplot(data=prets, x='benefices')
plt.show()
# bénéfice mensuel total réalisé par agence
sns.barplot(data=prets, x='ville', y='benefices', hue='type', errorbar=None, estimator=sum)
plt.show()






