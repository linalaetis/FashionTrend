{
 "cells": [
  {
   "cell_type": "code",
   "execution_count": null,
   "id": "1c16a5a7-7fa3-42d6-aa04-f52a6e23b388",
   "metadata": {},
   "outputs": [],
   "source": [
    "## 📒 Notes sur l’environnement\n",
    "\n",
    "- **Python** : 3.13.5  \n",
    "- **Gestionnaire** : Conda  \n",
    "- **Fichier d’environnement** : `requiremets.txt` (joint pour la reproductibilité)  \n",
    "\n",
    "### Bibliothèques principales\n",
    "- numpy==2.1.3  \n",
    "- pandas==2.2.3  \n",
    "- scikit-learn==1.6.1  \n",
    "- matplotlib==3.10.0 \n",
    "- jupyterlab==4.4.4  \n",
    "\n",
    "### lancer jupyter Lab dans le repertoire ci dessous par defaut\n",
    " c.ServerApp.root_dir = 'D:/IA/Appli/FashionTrend/notebooks'   dans le fichier jupyter_lab_config.py\n",
    "\n",
    "*(Voir `requirements.txt` pour la liste complète)*  \n"
   ]
  },
  {
   "cell_type": "code",
   "execution_count": 3,
   "id": "a1c8430c-2bdc-476f-bcb8-1f6b7a35f416",
   "metadata": {},
   "outputs": [
    {
     "name": "stdout",
     "output_type": "stream",
     "text": [
      "✅ Python version : 3.13.5\n",
      "✅ requirements-full.txt et requirements.txt générés dans d:\\ia\\appli\\fashiontrend\n"
     ]
    }
   ],
   "source": [
    "import subprocess\n",
    "import sys\n",
    "from pathlib import Path\n",
    "\n",
    "# Version de Python\n",
    "print(f\"✅ Python version : {sys.version.split()[0]}\")\n",
    "\n",
    "# répertoire cible\n",
    "output_dir = Path(r\"d:\\ia\\appli\\fashiontrend\")\n",
    "output_dir.mkdir(parents=True, exist_ok=True)\n",
    "\n",
    "# fichier complet (snapshot entier de l'environnement)\n",
    "full_path = output_dir / \"requirements-full.txt\"\n",
    "with open(full_path, \"w\", encoding=\"utf-8\") as f:\n",
    "    subprocess.run(\n",
    "        [sys.executable, \"-m\", \"pip\", \"freeze\"],\n",
    "        stdout=f,\n",
    "        text=True,\n",
    "        check=True\n",
    "    )\n",
    "\n",
    "# fichier nettoyé (juste les libs principales choisies)\n",
    "core_libs = {\"numpy\", \"pandas\", \"matplotlib\", \"scikit-learn\", \"xgboost\", \"torch\", \"tensorflow\"}\n",
    "\n",
    "clean_path = output_dir / \"requirements.txt\"\n",
    "with open(full_path, \"r\", encoding=\"utf-8\") as fin, open(clean_path, \"w\", encoding=\"utf-8\") as fout:\n",
    "    for line in fin:\n",
    "        pkg = line.strip().split(\"==\")[0].lower()\n",
    "        if pkg in core_libs:\n",
    "            fout.write(line)\n",
    "\n",
    "print(f\"✅ requirements-full.txt et requirements.txt générés dans {output_dir}\")"
   ]
  },
  {
   "cell_type": "code",
   "execution_count": null,
   "id": "d131e85d-e00a-45eb-8e40-bc7f65e547ec",
   "metadata": {},
   "outputs": [],
   "source": []
  }
 ],
 "metadata": {
  "kernelspec": {
   "display_name": "Python (FashionTrend)",
   "language": "python",
   "name": "fashiontrend_env"
  },
  "language_info": {
   "codemirror_mode": {
    "name": "ipython",
    "version": 3
   },
   "file_extension": ".py",
   "mimetype": "text/x-python",
   "name": "python",
   "nbconvert_exporter": "python",
   "pygments_lexer": "ipython3",
   "version": "3.13.5"
  }
 },
 "nbformat": 4,
 "nbformat_minor": 5
}
