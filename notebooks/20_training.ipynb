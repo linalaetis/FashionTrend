{
 "cells": [
  {
   "cell_type": "code",
   "execution_count": null,
   "id": "a77e3352-8b0c-4bc4-9fc6-ae60e0bf21d1",
   "metadata": {},
   "outputs": [],
   "source": []
  }
 ],
 "metadata": {
  "kernelspec": {
   "display_name": "Python (FashionTrend)",
   "language": "python",
   "name": "fashiontrend_env"
  },
  "language_info": {
   "codemirror_mode": {
    "name": "ipython",
    "version": 3
   },
   "file_extension": ".py",
   "mimetype": "text/x-python",
   "name": "python",
   "nbconvert_exporter": "python",
   "pygments_lexer": "ipython3",
   "version": "3.13.5"
  }
 },
 "nbformat": 4,
 "nbformat_minor": 5
}
