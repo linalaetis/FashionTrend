{
 "cells": [
  {
   "cell_type": "code",
   "execution_count": 30,
   "id": "cc7f4644-794a-4616-9fcd-92a078774312",
   "metadata": {},
   "outputs": [
    {
     "data": {
      "text/plain": [
       "array([ 1,  2,  4,  5,  6,  7,  8,  9, 10, 11, 12, 13])"
      ]
     },
     "execution_count": 30,
     "metadata": {},
     "output_type": "execute_result"
    }
   ],
   "source": [
    "import numpy as np\n",
    "\n",
    "# Tableau des 10 clients avec Revenus, Age, Nombre d'enfants\n",
    "hugo=[1800,21,0]\n",
    "richard=[1500,54,2]\n",
    "emilie=[2200,28,3]\n",
    "pierre=[3000,37,1]\n",
    "paul=[2172,37,2]\n",
    "deborah=[5000,32,0]\n",
    "yohann=[1400,23,0]\n",
    "anne=[1200,25,1]\n",
    "thibault=[1100,19,0]\n",
    "emmanuel=[1300,31,2]\n",
    "\n",
    "tableau=[hugo, richard, emilie, pierre,paul, deborah, yohann,anne,thibault,emmanuel]\n",
    "data=np.array(tableau)\n",
    "data[4,:]\n",
    "#print(\"Informations de Paul :\",data[4,:])\n",
    "#print(\"-\")\n",
    "#print(\"Ses mensualités maximales sont de :\", round(data[4,0]*0.35, 2), \"€\")\n",
    "louise = [1900, 31, 1]\n",
    "np.vstack((data, louise))\n",
    "revenus=data[:,0]\n",
    "#print(revenus)\n",
    "\n",
    "b = np.array([[[1, 2],[4, 5]],\n",
    "        [[6, 7],[8, 9]],\n",
    "        [[10, 11],[12, 13]]])\n",
    "b.reshape([4, 1, 3])\n",
    "b.flatten()"
   ]
  },
  {
   "cell_type": "code",
   "execution_count": null,
   "id": "1a225686-bc8b-4eca-9dd3-f99756aa231b",
   "metadata": {},
   "outputs": [],
   "source": []
  }
 ],
 "metadata": {
  "kernelspec": {
   "display_name": "Python [conda env:base] *",
   "language": "python",
   "name": "conda-base-py"
  },
  "language_info": {
   "codemirror_mode": {
    "name": "ipython",
    "version": 3
   },
   "file_extension": ".py",
   "mimetype": "text/x-python",
   "name": "python",
   "nbconvert_exporter": "python",
   "pygments_lexer": "ipython3",
   "version": "3.12.7"
  }
 },
 "nbformat": 4,
 "nbformat_minor": 5
}
