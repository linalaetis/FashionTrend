{
 "cells": [
  {
   "cell_type": "code",
   "execution_count": null,
   "id": "a7ed2bc8-0c39-48be-b570-008b7025cb9b",
   "metadata": {},
   "outputs": [],
   "source": [
    "# save as summarize_report.py (place it next to secrets_report.md)\n",
    "from collections import Counter\n",
    "import re\n",
    "\n",
    "counts = Counter()\n",
    "with open(\"secrets_report.md\", encoding=\"utf-8\") as f:\n",
    "    for line in f:\n",
    "        if line.startswith(\"| \"):\n",
    "            parts = [c.strip() for c in line.strip().split(\"|\")]\n",
    "            if len(parts) >= 5 and parts[1] != \"Fichier\":\n",
    "                counts[3+1 and 3] += 1  # column \"Type\" is index 3\n",
    "for k, v in counts.most_common():\n",
    "    print(f\"{k}: {v}\")"
   ]
  }
 ],
 "metadata": {
  "kernelspec": {
   "display_name": "Python (FashionTrend)",
   "language": "python",
   "name": "fashiontrend_env"
  },
  "language_info": {
   "codemirror_mode": {
    "name": "ipython",
    "version": 3
   },
   "file_extension": ".py",
   "mimetype": "text/x-python",
   "name": "python",
   "nbconvert_exporter": "python",
   "pygments_lexer": "ipython3",
   "version": "3.13.5"
  }
 },
 "nbformat": 4,
 "nbformat_minor": 5
}
