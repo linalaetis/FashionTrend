{
 "cells": [
  {
   "cell_type": "markdown",
   "id": "17cef90f-c671-4af1-880c-e07e0123b48f",
   "metadata": {},
   "source": [
    "## 📒 Notes sur l’environnement\n",
    "\n",
    "- **Python** : 3.13.5  \n",
    "- **Gestionnaire** : Conda  \n",
    "- **Fichier d’environnement** : `environment.yml` (joint pour la reproductibilité)  \n",
    "\n",
    "### Bibliothèques principales\n",
    "- numpy==2.1.3  \n",
    "- pandas==2.2.3  \n",
    "- scikit-learn==1.6.1  \n",
    "- matplotlib==3.10.0 \n",
    "- jupyterlab==4.4.4  \n",
    "\n",
    "*(Voir `requirements.txt` pour la liste complète)*  "
   ]
  },
  {
   "cell_type": "code",
   "execution_count": null,
   "id": "a58a06ce-ed48-4f87-9838-5bbedebabaf3",
   "metadata": {},
   "outputs": [],
   "source": [
    "## 📒 Notes sur l’environnement\n",
    "\n",
    "import sys, importlib\n",
    "\n",
    "# Version de Python\n",
    "print(f\"✅ Python version : {sys.version.split()[0]}\")\n",
    "\n",
    "# Bibliothèques clés à vérifier\n",
    "libs = [\"numpy\", \"pandas\", \"scikit-learn\", \"matplotlib\", \"torch\", \"tensorflow\"]\n",
    "\n",
    "for lib in libs:\n",
    "    try:\n",
    "        module = importlib.import_module(lib)\n",
    "        print(f\"{lib:15} : {module.__version__}\")\n",
    "    except ImportError:\n",
    "        print(f\"{lib:15} : non installé\")\n",
    "      \n",
    "# Créer le fichier requirements.txt avec la liste des bibliothèques exactes\n",
    "with open(\"requirements.txt\", \"w\") as f:\n",
    "    result = subprocess.run([\"pip\", \"freeze\"], capture_output=True, text=True)\n",
    "    f.write(result.stdout)\n",
    "\n",
    "print(\"✅ Fichier 'requirements.txt' généré avec succès dans le dossier courant !\")"
   ]
  }
 ],
 "metadata": {
  "kernelspec": {
   "display_name": "Python (FashionTrend)",
   "language": "python",
   "name": "fashiontrend_env"
  },
  "language_info": {
   "codemirror_mode": {
    "name": "ipython",
    "version": 3
   },
   "file_extension": ".py",
   "mimetype": "text/x-python",
   "name": "python",
   "nbconvert_exporter": "python",
   "pygments_lexer": "ipython3",
   "version": "3.13.5"
  }
 },
 "nbformat": 4,
 "nbformat_minor": 5
}
