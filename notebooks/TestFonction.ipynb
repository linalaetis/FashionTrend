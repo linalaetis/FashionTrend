{
 "cells": [
  {
   "cell_type": "code",
   "execution_count": 1,
   "id": "a7ed2bc8-0c39-48be-b570-008b7025cb9b",
   "metadata": {},
   "outputs": [],
   "source": [
    "# save as summarize_report.py (place it next to secrets_report.md)\n",
    "from collections import Counter\n",
    "from pathlib import Path\n",
    "import re\n",
    "\n",
    "# Définir ton chemin avec Path (slashes ou antislashs, peu importe)\n",
    "path = Path(\"d:/ia/appli/fashionTrend/secrets_report.md\")\n",
    "\n",
    "counts = Counter()\n",
    "with path.open(encoding=\"utf-8\") as f:\n",
    "    for line in f:\n",
    "        if line.startswith(\"| \"):\n",
    "            parts = [c.strip() for c in line.strip().split(\"|\")]\n",
    "            if len(parts) >= 5 and parts[1] != \"Fichier\":\n",
    "                counts[3+1 and 3] += 1  # column \"Type\" is index 3\n",
    "for k, v in counts.most_common():\n",
    "    print(f\"{k}: {v}\")"
   ]
  },
  {
   "cell_type": "code",
   "execution_count": null,
   "id": "6f53e548-891f-4d60-bd66-a6748237927f",
   "metadata": {},
   "outputs": [],
   "source": []
  }
 ],
 "metadata": {
  "kernelspec": {
   "display_name": "Python 3 (ipykernel)",
   "language": "python",
   "name": "python3"
  },
  "language_info": {
   "codemirror_mode": {
    "name": "ipython",
    "version": 3
   },
   "file_extension": ".py",
   "mimetype": "text/x-python",
   "name": "python",
   "nbconvert_exporter": "python",
   "pygments_lexer": "ipython3",
   "version": "3.13.5"
  }
 },
 "nbformat": 4,
 "nbformat_minor": 5
}
